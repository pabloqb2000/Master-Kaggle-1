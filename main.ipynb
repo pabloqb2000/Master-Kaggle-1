{
  "nbformat": 4,
  "nbformat_minor": 0,
  "metadata": {
    "colab": {
      "provenance": []
    },
    "kernelspec": {
      "name": "python3",
      "display_name": "Python 3"
    },
    "language_info": {
      "name": "python"
    }
  },
  "cells": [
    {
      "cell_type": "markdown",
      "source": [
        "# **Machine Learning & Deep Learning: Kaggle 1**\n",
        "\n",
        "*Master in Machine Learning for Health - 2023/2024*"
      ],
      "metadata": {
        "id": "rmq_hnP1RAjz"
      }
    },
    {
      "cell_type": "code",
      "execution_count": 1,
      "metadata": {
        "id": "SWwiB8RKyo0c",
        "colab": {
          "base_uri": "https://localhost:8080/"
        },
        "outputId": "d6f94a3b-fe24-4589-981a-2a0ebebf74e4"
      },
      "outputs": [
        {
          "output_type": "stream",
          "name": "stderr",
          "text": [
            "<ipython-input-1-ca518797a70c>:5: MatplotlibDeprecationWarning: The seaborn styles shipped by Matplotlib are deprecated since 3.6, as they no longer correspond to the styles shipped by seaborn. However, they will remain available as 'seaborn-v0_8-<style>'. Alternatively, directly use the seaborn API instead.\n",
            "  plt.style.use('seaborn')\n"
          ]
        },
        {
          "output_type": "stream",
          "name": "stdout",
          "text": [
            "Mounted at /content/drive\n"
          ]
        }
      ],
      "source": [
        "import pickle\n",
        "import pandas as pd\n",
        "import numpy as np\n",
        "import matplotlib.pyplot as plt\n",
        "plt.style.use('seaborn')\n",
        "\n",
        "from google.colab import drive\n",
        "drive.mount('/content/drive')"
      ]
    },
    {
      "cell_type": "code",
      "source": [
        "path = '/MyDrive/Machine Learning/Kaggle Challenge 1'\n",
        "df_test = pd.read_pickle('/content/drive/MyDrive/Machine Learning/Kaggle Challenge 1/data_v1_test.pickle')\n",
        "df_train = pd.read_pickle('/content/drive/MyDrive/Machine Learning/Kaggle Challenge 1/data_v1_train.pickle')\n",
        "\n",
        "df_train.head(2)\n"
      ],
      "metadata": {
        "colab": {
          "base_uri": "https://localhost:8080/",
          "height": 112
        },
        "id": "23KEOTMuy5Dp",
        "outputId": "e9007e3a-43b8-4aed-f14c-2bf96b94ff07"
      },
      "execution_count": 2,
      "outputs": [
        {
          "output_type": "execute_result",
          "data": {
            "text/plain": [
              "   projectID           startDate             endDate  totalCost  \\\n",
              "0  101030179 2021-08-31 22:00:00 2023-08-30 22:00:00  155364.48   \n",
              "1     294212 2011-07-31 22:00:00 2015-07-30 22:00:00  100000.00   \n",
              "\n",
              "   ecMaxContribution frameworkProgramme  num_papers  num_patents     category  \\\n",
              "0          155364.48              H2020           2            0  [7, 22, 23]   \n",
              "1          100000.00                FP7           0            0  [5, 20, 22]   \n",
              "\n",
              "                                               label  \\\n",
              "0  [0, 0, 0, 0, 0, 0, 0, 1, 0, 0, 0, 0, 0, 0, 0, ...   \n",
              "1  [0, 0, 0, 0, 0, 1, 0, 0, 0, 0, 0, 0, 0, 0, 0, ...   \n",
              "\n",
              "                                               TFIDF  \n",
              "0  [0.0, 0.0, 0.0, 0.0, 0.0, 0.0, 0.0, 0.0, 0.0, ...  \n",
              "1  [0.0, 0.0, 0.0, 0.0, 0.0, 0.0, 0.0, 0.0, 0.0, ...  "
            ],
            "text/html": [
              "\n",
              "  <div id=\"df-25f7f22c-e78c-43d4-8978-13651765cb8c\" class=\"colab-df-container\">\n",
              "    <div>\n",
              "<style scoped>\n",
              "    .dataframe tbody tr th:only-of-type {\n",
              "        vertical-align: middle;\n",
              "    }\n",
              "\n",
              "    .dataframe tbody tr th {\n",
              "        vertical-align: top;\n",
              "    }\n",
              "\n",
              "    .dataframe thead th {\n",
              "        text-align: right;\n",
              "    }\n",
              "</style>\n",
              "<table border=\"1\" class=\"dataframe\">\n",
              "  <thead>\n",
              "    <tr style=\"text-align: right;\">\n",
              "      <th></th>\n",
              "      <th>projectID</th>\n",
              "      <th>startDate</th>\n",
              "      <th>endDate</th>\n",
              "      <th>totalCost</th>\n",
              "      <th>ecMaxContribution</th>\n",
              "      <th>frameworkProgramme</th>\n",
              "      <th>num_papers</th>\n",
              "      <th>num_patents</th>\n",
              "      <th>category</th>\n",
              "      <th>label</th>\n",
              "      <th>TFIDF</th>\n",
              "    </tr>\n",
              "  </thead>\n",
              "  <tbody>\n",
              "    <tr>\n",
              "      <th>0</th>\n",
              "      <td>101030179</td>\n",
              "      <td>2021-08-31 22:00:00</td>\n",
              "      <td>2023-08-30 22:00:00</td>\n",
              "      <td>155364.48</td>\n",
              "      <td>155364.48</td>\n",
              "      <td>H2020</td>\n",
              "      <td>2</td>\n",
              "      <td>0</td>\n",
              "      <td>[7, 22, 23]</td>\n",
              "      <td>[0, 0, 0, 0, 0, 0, 0, 1, 0, 0, 0, 0, 0, 0, 0, ...</td>\n",
              "      <td>[0.0, 0.0, 0.0, 0.0, 0.0, 0.0, 0.0, 0.0, 0.0, ...</td>\n",
              "    </tr>\n",
              "    <tr>\n",
              "      <th>1</th>\n",
              "      <td>294212</td>\n",
              "      <td>2011-07-31 22:00:00</td>\n",
              "      <td>2015-07-30 22:00:00</td>\n",
              "      <td>100000.00</td>\n",
              "      <td>100000.00</td>\n",
              "      <td>FP7</td>\n",
              "      <td>0</td>\n",
              "      <td>0</td>\n",
              "      <td>[5, 20, 22]</td>\n",
              "      <td>[0, 0, 0, 0, 0, 1, 0, 0, 0, 0, 0, 0, 0, 0, 0, ...</td>\n",
              "      <td>[0.0, 0.0, 0.0, 0.0, 0.0, 0.0, 0.0, 0.0, 0.0, ...</td>\n",
              "    </tr>\n",
              "  </tbody>\n",
              "</table>\n",
              "</div>\n",
              "    <div class=\"colab-df-buttons\">\n",
              "\n",
              "  <div class=\"colab-df-container\">\n",
              "    <button class=\"colab-df-convert\" onclick=\"convertToInteractive('df-25f7f22c-e78c-43d4-8978-13651765cb8c')\"\n",
              "            title=\"Convert this dataframe to an interactive table.\"\n",
              "            style=\"display:none;\">\n",
              "\n",
              "  <svg xmlns=\"http://www.w3.org/2000/svg\" height=\"24px\" viewBox=\"0 -960 960 960\">\n",
              "    <path d=\"M120-120v-720h720v720H120Zm60-500h600v-160H180v160Zm220 220h160v-160H400v160Zm0 220h160v-160H400v160ZM180-400h160v-160H180v160Zm440 0h160v-160H620v160ZM180-180h160v-160H180v160Zm440 0h160v-160H620v160Z\"/>\n",
              "  </svg>\n",
              "    </button>\n",
              "\n",
              "  <style>\n",
              "    .colab-df-container {\n",
              "      display:flex;\n",
              "      gap: 12px;\n",
              "    }\n",
              "\n",
              "    .colab-df-convert {\n",
              "      background-color: #E8F0FE;\n",
              "      border: none;\n",
              "      border-radius: 50%;\n",
              "      cursor: pointer;\n",
              "      display: none;\n",
              "      fill: #1967D2;\n",
              "      height: 32px;\n",
              "      padding: 0 0 0 0;\n",
              "      width: 32px;\n",
              "    }\n",
              "\n",
              "    .colab-df-convert:hover {\n",
              "      background-color: #E2EBFA;\n",
              "      box-shadow: 0px 1px 2px rgba(60, 64, 67, 0.3), 0px 1px 3px 1px rgba(60, 64, 67, 0.15);\n",
              "      fill: #174EA6;\n",
              "    }\n",
              "\n",
              "    .colab-df-buttons div {\n",
              "      margin-bottom: 4px;\n",
              "    }\n",
              "\n",
              "    [theme=dark] .colab-df-convert {\n",
              "      background-color: #3B4455;\n",
              "      fill: #D2E3FC;\n",
              "    }\n",
              "\n",
              "    [theme=dark] .colab-df-convert:hover {\n",
              "      background-color: #434B5C;\n",
              "      box-shadow: 0px 1px 3px 1px rgba(0, 0, 0, 0.15);\n",
              "      filter: drop-shadow(0px 1px 2px rgba(0, 0, 0, 0.3));\n",
              "      fill: #FFFFFF;\n",
              "    }\n",
              "  </style>\n",
              "\n",
              "    <script>\n",
              "      const buttonEl =\n",
              "        document.querySelector('#df-25f7f22c-e78c-43d4-8978-13651765cb8c button.colab-df-convert');\n",
              "      buttonEl.style.display =\n",
              "        google.colab.kernel.accessAllowed ? 'block' : 'none';\n",
              "\n",
              "      async function convertToInteractive(key) {\n",
              "        const element = document.querySelector('#df-25f7f22c-e78c-43d4-8978-13651765cb8c');\n",
              "        const dataTable =\n",
              "          await google.colab.kernel.invokeFunction('convertToInteractive',\n",
              "                                                    [key], {});\n",
              "        if (!dataTable) return;\n",
              "\n",
              "        const docLinkHtml = 'Like what you see? Visit the ' +\n",
              "          '<a target=\"_blank\" href=https://colab.research.google.com/notebooks/data_table.ipynb>data table notebook</a>'\n",
              "          + ' to learn more about interactive tables.';\n",
              "        element.innerHTML = '';\n",
              "        dataTable['output_type'] = 'display_data';\n",
              "        await google.colab.output.renderOutput(dataTable, element);\n",
              "        const docLink = document.createElement('div');\n",
              "        docLink.innerHTML = docLinkHtml;\n",
              "        element.appendChild(docLink);\n",
              "      }\n",
              "    </script>\n",
              "  </div>\n",
              "\n",
              "\n",
              "<div id=\"df-48f7272a-d1bd-41fe-b0bc-8112c3f325a8\">\n",
              "  <button class=\"colab-df-quickchart\" onclick=\"quickchart('df-48f7272a-d1bd-41fe-b0bc-8112c3f325a8')\"\n",
              "            title=\"Suggest charts.\"\n",
              "            style=\"display:none;\">\n",
              "\n",
              "<svg xmlns=\"http://www.w3.org/2000/svg\" height=\"24px\"viewBox=\"0 0 24 24\"\n",
              "     width=\"24px\">\n",
              "    <g>\n",
              "        <path d=\"M19 3H5c-1.1 0-2 .9-2 2v14c0 1.1.9 2 2 2h14c1.1 0 2-.9 2-2V5c0-1.1-.9-2-2-2zM9 17H7v-7h2v7zm4 0h-2V7h2v10zm4 0h-2v-4h2v4z\"/>\n",
              "    </g>\n",
              "</svg>\n",
              "  </button>\n",
              "\n",
              "<style>\n",
              "  .colab-df-quickchart {\n",
              "      --bg-color: #E8F0FE;\n",
              "      --fill-color: #1967D2;\n",
              "      --hover-bg-color: #E2EBFA;\n",
              "      --hover-fill-color: #174EA6;\n",
              "      --disabled-fill-color: #AAA;\n",
              "      --disabled-bg-color: #DDD;\n",
              "  }\n",
              "\n",
              "  [theme=dark] .colab-df-quickchart {\n",
              "      --bg-color: #3B4455;\n",
              "      --fill-color: #D2E3FC;\n",
              "      --hover-bg-color: #434B5C;\n",
              "      --hover-fill-color: #FFFFFF;\n",
              "      --disabled-bg-color: #3B4455;\n",
              "      --disabled-fill-color: #666;\n",
              "  }\n",
              "\n",
              "  .colab-df-quickchart {\n",
              "    background-color: var(--bg-color);\n",
              "    border: none;\n",
              "    border-radius: 50%;\n",
              "    cursor: pointer;\n",
              "    display: none;\n",
              "    fill: var(--fill-color);\n",
              "    height: 32px;\n",
              "    padding: 0;\n",
              "    width: 32px;\n",
              "  }\n",
              "\n",
              "  .colab-df-quickchart:hover {\n",
              "    background-color: var(--hover-bg-color);\n",
              "    box-shadow: 0 1px 2px rgba(60, 64, 67, 0.3), 0 1px 3px 1px rgba(60, 64, 67, 0.15);\n",
              "    fill: var(--button-hover-fill-color);\n",
              "  }\n",
              "\n",
              "  .colab-df-quickchart-complete:disabled,\n",
              "  .colab-df-quickchart-complete:disabled:hover {\n",
              "    background-color: var(--disabled-bg-color);\n",
              "    fill: var(--disabled-fill-color);\n",
              "    box-shadow: none;\n",
              "  }\n",
              "\n",
              "  .colab-df-spinner {\n",
              "    border: 2px solid var(--fill-color);\n",
              "    border-color: transparent;\n",
              "    border-bottom-color: var(--fill-color);\n",
              "    animation:\n",
              "      spin 1s steps(1) infinite;\n",
              "  }\n",
              "\n",
              "  @keyframes spin {\n",
              "    0% {\n",
              "      border-color: transparent;\n",
              "      border-bottom-color: var(--fill-color);\n",
              "      border-left-color: var(--fill-color);\n",
              "    }\n",
              "    20% {\n",
              "      border-color: transparent;\n",
              "      border-left-color: var(--fill-color);\n",
              "      border-top-color: var(--fill-color);\n",
              "    }\n",
              "    30% {\n",
              "      border-color: transparent;\n",
              "      border-left-color: var(--fill-color);\n",
              "      border-top-color: var(--fill-color);\n",
              "      border-right-color: var(--fill-color);\n",
              "    }\n",
              "    40% {\n",
              "      border-color: transparent;\n",
              "      border-right-color: var(--fill-color);\n",
              "      border-top-color: var(--fill-color);\n",
              "    }\n",
              "    60% {\n",
              "      border-color: transparent;\n",
              "      border-right-color: var(--fill-color);\n",
              "    }\n",
              "    80% {\n",
              "      border-color: transparent;\n",
              "      border-right-color: var(--fill-color);\n",
              "      border-bottom-color: var(--fill-color);\n",
              "    }\n",
              "    90% {\n",
              "      border-color: transparent;\n",
              "      border-bottom-color: var(--fill-color);\n",
              "    }\n",
              "  }\n",
              "</style>\n",
              "\n",
              "  <script>\n",
              "    async function quickchart(key) {\n",
              "      const quickchartButtonEl =\n",
              "        document.querySelector('#' + key + ' button');\n",
              "      quickchartButtonEl.disabled = true;  // To prevent multiple clicks.\n",
              "      quickchartButtonEl.classList.add('colab-df-spinner');\n",
              "      try {\n",
              "        const charts = await google.colab.kernel.invokeFunction(\n",
              "            'suggestCharts', [key], {});\n",
              "      } catch (error) {\n",
              "        console.error('Error during call to suggestCharts:', error);\n",
              "      }\n",
              "      quickchartButtonEl.classList.remove('colab-df-spinner');\n",
              "      quickchartButtonEl.classList.add('colab-df-quickchart-complete');\n",
              "    }\n",
              "    (() => {\n",
              "      let quickchartButtonEl =\n",
              "        document.querySelector('#df-48f7272a-d1bd-41fe-b0bc-8112c3f325a8 button');\n",
              "      quickchartButtonEl.style.display =\n",
              "        google.colab.kernel.accessAllowed ? 'block' : 'none';\n",
              "    })();\n",
              "  </script>\n",
              "</div>\n",
              "    </div>\n",
              "  </div>\n"
            ]
          },
          "metadata": {},
          "execution_count": 2
        }
      ]
    },
    {
      "cell_type": "code",
      "source": [
        "print(df_train.shape)\n",
        "print(df_test.shape)"
      ],
      "metadata": {
        "colab": {
          "base_uri": "https://localhost:8080/"
        },
        "id": "yKeFOuZnq_EK",
        "outputId": "c613fc61-4be3-431f-a170-ae6529e27fc0"
      },
      "execution_count": 3,
      "outputs": [
        {
          "output_type": "stream",
          "name": "stdout",
          "text": [
            "(6983, 11)\n",
            "(10476, 9)\n"
          ]
        }
      ]
    },
    {
      "cell_type": "markdown",
      "source": [
        "Look for missing values."
      ],
      "metadata": {
        "id": "LVLgwsc7rJ00"
      }
    },
    {
      "cell_type": "code",
      "source": [
        "nan_count_train = df_train.isna().sum()\n",
        "nan_count_test = df_test.isna().sum()\n",
        "print(nan_count_train)\n",
        "print(nan_count_test)"
      ],
      "metadata": {
        "colab": {
          "base_uri": "https://localhost:8080/"
        },
        "id": "5FliWiobmr-x",
        "outputId": "5baf854b-c06b-477b-92ee-2036d981c90a"
      },
      "execution_count": 4,
      "outputs": [
        {
          "output_type": "stream",
          "name": "stdout",
          "text": [
            "projectID              0\n",
            "startDate             14\n",
            "endDate               14\n",
            "totalCost              0\n",
            "ecMaxContribution      0\n",
            "frameworkProgramme     0\n",
            "num_papers             0\n",
            "num_patents            0\n",
            "category               0\n",
            "label                  0\n",
            "TFIDF                  0\n",
            "dtype: int64\n",
            "projectID              0\n",
            "startDate             23\n",
            "endDate               23\n",
            "totalCost              0\n",
            "ecMaxContribution      0\n",
            "frameworkProgramme     0\n",
            "num_papers             0\n",
            "num_patents            0\n",
            "TFIDF                  0\n",
            "dtype: int64\n"
          ]
        }
      ]
    },
    {
      "cell_type": "code",
      "source": [
        "rows_with_nan_in_train = df_train[df_train['startDate'].isna()]\n",
        "print(rows_with_nan_in_train[['startDate', 'endDate']])"
      ],
      "metadata": {
        "colab": {
          "base_uri": "https://localhost:8080/"
        },
        "id": "sniEA9RdoS70",
        "outputId": "f8c07242-7bdd-494d-caa8-709f91c8ceff"
      },
      "execution_count": null,
      "outputs": [
        {
          "output_type": "stream",
          "name": "stdout",
          "text": [
            "     startDate endDate\n",
            "273        NaT     NaT\n",
            "409        NaT     NaT\n",
            "560        NaT     NaT\n",
            "1596       NaT     NaT\n",
            "1731       NaT     NaT\n",
            "2254       NaT     NaT\n",
            "3287       NaT     NaT\n",
            "3431       NaT     NaT\n",
            "5314       NaT     NaT\n",
            "6109       NaT     NaT\n",
            "6151       NaT     NaT\n",
            "6383       NaT     NaT\n",
            "6480       NaT     NaT\n",
            "6794       NaT     NaT\n"
          ]
        }
      ]
    },
    {
      "cell_type": "code",
      "source": [
        "rows_with_nan_in_test = df_test[df_test['startDate'].isna()]\n",
        "print(rows_with_nan_in_test[['startDate', 'endDate']])"
      ],
      "metadata": {
        "colab": {
          "base_uri": "https://localhost:8080/"
        },
        "id": "PA5Aah7cobUI",
        "outputId": "016bce3c-438c-484d-e8f1-a4f5539b0652"
      },
      "execution_count": null,
      "outputs": [
        {
          "output_type": "stream",
          "name": "stdout",
          "text": [
            "      startDate endDate\n",
            "7820        NaT     NaT\n",
            "7837        NaT     NaT\n",
            "7876        NaT     NaT\n",
            "7949        NaT     NaT\n",
            "8127        NaT     NaT\n",
            "8429        NaT     NaT\n",
            "8572        NaT     NaT\n",
            "9037        NaT     NaT\n",
            "9601        NaT     NaT\n",
            "10536       NaT     NaT\n",
            "11135       NaT     NaT\n",
            "12051       NaT     NaT\n",
            "12112       NaT     NaT\n",
            "12730       NaT     NaT\n",
            "13951       NaT     NaT\n",
            "14314       NaT     NaT\n",
            "14449       NaT     NaT\n",
            "15040       NaT     NaT\n",
            "15343       NaT     NaT\n",
            "15546       NaT     NaT\n",
            "15833       NaT     NaT\n",
            "16963       NaT     NaT\n",
            "17398       NaT     NaT\n"
          ]
        }
      ]
    },
    {
      "cell_type": "markdown",
      "source": [
        "## **Data Prepocessing**\n",
        "\n",
        "Steps to create the final training and test sets:\n",
        "\n",
        "1. Solve NaN values in dates columns, for now dates are not used.\n",
        "2. One-hot encode the Framework Programme and encode dates(not used).\n",
        "3. Use the TFIDF features separately for each sample ($2000$ new features as first approach).\n",
        "4. Discard the category column and use the labels as matrix Y.\n",
        "5. Study class imabalance with matrix Y."
      ],
      "metadata": {
        "id": "IB5JPVjw2kgq"
      }
    },
    {
      "cell_type": "markdown",
      "source": [
        "### 1. Encoding dates and framework column\n",
        "Framework Programme es encoded using one-hot enconding and a new feature is added for every possible framework.\n",
        "\n",
        "Dates are encoded using cyclical encoding for the month, day and hour. Only the year, month, day and hour are encoded, minutes and seconds are discarded.\n",
        "\n",
        "For every cyclical encoding two new features are added, resulting in $7$ new features ($6$ for month, day and hour and $1$ for year)."
      ],
      "metadata": {
        "id": "GBslL7iCACY2"
      }
    },
    {
      "cell_type": "code",
      "source": [
        "# Encode FrameworkProgramme column\n",
        "df_train_fe = pd.get_dummies(df_train, columns=['frameworkProgramme'])\n",
        "df_test_fe = pd.get_dummies(df_test, columns=['frameworkProgramme'])\n",
        "df_test_fe.head(2)"
      ],
      "metadata": {
        "colab": {
          "base_uri": "https://localhost:8080/",
          "height": 147
        },
        "id": "2YY58ycX8_jW",
        "outputId": "bce8f602-006b-4717-e5eb-be8db17d2621"
      },
      "execution_count": 5,
      "outputs": [
        {
          "output_type": "execute_result",
          "data": {
            "text/plain": [
              "      projectID           startDate             endDate   totalCost  \\\n",
              "6983  101113193 2023-08-31 22:00:00 2026-08-30 22:00:00  2084871.88   \n",
              "6984     876600 2019-09-30 22:00:00 2020-02-28 23:00:00    71429.00   \n",
              "\n",
              "      ecMaxContribution  num_papers  num_patents  \\\n",
              "6983         2084871.25           0            0   \n",
              "6984           50000.00           0            0   \n",
              "\n",
              "                                                  TFIDF  \\\n",
              "6983  [0.0, 0.0, 0.0, 0.0, 0.0, 0.0, 0.0, 0.0, 0.0, ...   \n",
              "6984  [0.0, 0.0, 0.07044837318360815, 0.0, 0.0, 0.0,...   \n",
              "\n",
              "      frameworkProgramme_FP7  frameworkProgramme_H2020  \\\n",
              "6983                       0                         0   \n",
              "6984                       0                         1   \n",
              "\n",
              "      frameworkProgramme_HORIZON  \n",
              "6983                           1  \n",
              "6984                           0  "
            ],
            "text/html": [
              "\n",
              "  <div id=\"df-5164c235-a166-494c-8241-9e2e0b55ae52\" class=\"colab-df-container\">\n",
              "    <div>\n",
              "<style scoped>\n",
              "    .dataframe tbody tr th:only-of-type {\n",
              "        vertical-align: middle;\n",
              "    }\n",
              "\n",
              "    .dataframe tbody tr th {\n",
              "        vertical-align: top;\n",
              "    }\n",
              "\n",
              "    .dataframe thead th {\n",
              "        text-align: right;\n",
              "    }\n",
              "</style>\n",
              "<table border=\"1\" class=\"dataframe\">\n",
              "  <thead>\n",
              "    <tr style=\"text-align: right;\">\n",
              "      <th></th>\n",
              "      <th>projectID</th>\n",
              "      <th>startDate</th>\n",
              "      <th>endDate</th>\n",
              "      <th>totalCost</th>\n",
              "      <th>ecMaxContribution</th>\n",
              "      <th>num_papers</th>\n",
              "      <th>num_patents</th>\n",
              "      <th>TFIDF</th>\n",
              "      <th>frameworkProgramme_FP7</th>\n",
              "      <th>frameworkProgramme_H2020</th>\n",
              "      <th>frameworkProgramme_HORIZON</th>\n",
              "    </tr>\n",
              "  </thead>\n",
              "  <tbody>\n",
              "    <tr>\n",
              "      <th>6983</th>\n",
              "      <td>101113193</td>\n",
              "      <td>2023-08-31 22:00:00</td>\n",
              "      <td>2026-08-30 22:00:00</td>\n",
              "      <td>2084871.88</td>\n",
              "      <td>2084871.25</td>\n",
              "      <td>0</td>\n",
              "      <td>0</td>\n",
              "      <td>[0.0, 0.0, 0.0, 0.0, 0.0, 0.0, 0.0, 0.0, 0.0, ...</td>\n",
              "      <td>0</td>\n",
              "      <td>0</td>\n",
              "      <td>1</td>\n",
              "    </tr>\n",
              "    <tr>\n",
              "      <th>6984</th>\n",
              "      <td>876600</td>\n",
              "      <td>2019-09-30 22:00:00</td>\n",
              "      <td>2020-02-28 23:00:00</td>\n",
              "      <td>71429.00</td>\n",
              "      <td>50000.00</td>\n",
              "      <td>0</td>\n",
              "      <td>0</td>\n",
              "      <td>[0.0, 0.0, 0.07044837318360815, 0.0, 0.0, 0.0,...</td>\n",
              "      <td>0</td>\n",
              "      <td>1</td>\n",
              "      <td>0</td>\n",
              "    </tr>\n",
              "  </tbody>\n",
              "</table>\n",
              "</div>\n",
              "    <div class=\"colab-df-buttons\">\n",
              "\n",
              "  <div class=\"colab-df-container\">\n",
              "    <button class=\"colab-df-convert\" onclick=\"convertToInteractive('df-5164c235-a166-494c-8241-9e2e0b55ae52')\"\n",
              "            title=\"Convert this dataframe to an interactive table.\"\n",
              "            style=\"display:none;\">\n",
              "\n",
              "  <svg xmlns=\"http://www.w3.org/2000/svg\" height=\"24px\" viewBox=\"0 -960 960 960\">\n",
              "    <path d=\"M120-120v-720h720v720H120Zm60-500h600v-160H180v160Zm220 220h160v-160H400v160Zm0 220h160v-160H400v160ZM180-400h160v-160H180v160Zm440 0h160v-160H620v160ZM180-180h160v-160H180v160Zm440 0h160v-160H620v160Z\"/>\n",
              "  </svg>\n",
              "    </button>\n",
              "\n",
              "  <style>\n",
              "    .colab-df-container {\n",
              "      display:flex;\n",
              "      gap: 12px;\n",
              "    }\n",
              "\n",
              "    .colab-df-convert {\n",
              "      background-color: #E8F0FE;\n",
              "      border: none;\n",
              "      border-radius: 50%;\n",
              "      cursor: pointer;\n",
              "      display: none;\n",
              "      fill: #1967D2;\n",
              "      height: 32px;\n",
              "      padding: 0 0 0 0;\n",
              "      width: 32px;\n",
              "    }\n",
              "\n",
              "    .colab-df-convert:hover {\n",
              "      background-color: #E2EBFA;\n",
              "      box-shadow: 0px 1px 2px rgba(60, 64, 67, 0.3), 0px 1px 3px 1px rgba(60, 64, 67, 0.15);\n",
              "      fill: #174EA6;\n",
              "    }\n",
              "\n",
              "    .colab-df-buttons div {\n",
              "      margin-bottom: 4px;\n",
              "    }\n",
              "\n",
              "    [theme=dark] .colab-df-convert {\n",
              "      background-color: #3B4455;\n",
              "      fill: #D2E3FC;\n",
              "    }\n",
              "\n",
              "    [theme=dark] .colab-df-convert:hover {\n",
              "      background-color: #434B5C;\n",
              "      box-shadow: 0px 1px 3px 1px rgba(0, 0, 0, 0.15);\n",
              "      filter: drop-shadow(0px 1px 2px rgba(0, 0, 0, 0.3));\n",
              "      fill: #FFFFFF;\n",
              "    }\n",
              "  </style>\n",
              "\n",
              "    <script>\n",
              "      const buttonEl =\n",
              "        document.querySelector('#df-5164c235-a166-494c-8241-9e2e0b55ae52 button.colab-df-convert');\n",
              "      buttonEl.style.display =\n",
              "        google.colab.kernel.accessAllowed ? 'block' : 'none';\n",
              "\n",
              "      async function convertToInteractive(key) {\n",
              "        const element = document.querySelector('#df-5164c235-a166-494c-8241-9e2e0b55ae52');\n",
              "        const dataTable =\n",
              "          await google.colab.kernel.invokeFunction('convertToInteractive',\n",
              "                                                    [key], {});\n",
              "        if (!dataTable) return;\n",
              "\n",
              "        const docLinkHtml = 'Like what you see? Visit the ' +\n",
              "          '<a target=\"_blank\" href=https://colab.research.google.com/notebooks/data_table.ipynb>data table notebook</a>'\n",
              "          + ' to learn more about interactive tables.';\n",
              "        element.innerHTML = '';\n",
              "        dataTable['output_type'] = 'display_data';\n",
              "        await google.colab.output.renderOutput(dataTable, element);\n",
              "        const docLink = document.createElement('div');\n",
              "        docLink.innerHTML = docLinkHtml;\n",
              "        element.appendChild(docLink);\n",
              "      }\n",
              "    </script>\n",
              "  </div>\n",
              "\n",
              "\n",
              "<div id=\"df-17efac76-bb84-4a7d-a7cd-9b3df64d6503\">\n",
              "  <button class=\"colab-df-quickchart\" onclick=\"quickchart('df-17efac76-bb84-4a7d-a7cd-9b3df64d6503')\"\n",
              "            title=\"Suggest charts.\"\n",
              "            style=\"display:none;\">\n",
              "\n",
              "<svg xmlns=\"http://www.w3.org/2000/svg\" height=\"24px\"viewBox=\"0 0 24 24\"\n",
              "     width=\"24px\">\n",
              "    <g>\n",
              "        <path d=\"M19 3H5c-1.1 0-2 .9-2 2v14c0 1.1.9 2 2 2h14c1.1 0 2-.9 2-2V5c0-1.1-.9-2-2-2zM9 17H7v-7h2v7zm4 0h-2V7h2v10zm4 0h-2v-4h2v4z\"/>\n",
              "    </g>\n",
              "</svg>\n",
              "  </button>\n",
              "\n",
              "<style>\n",
              "  .colab-df-quickchart {\n",
              "      --bg-color: #E8F0FE;\n",
              "      --fill-color: #1967D2;\n",
              "      --hover-bg-color: #E2EBFA;\n",
              "      --hover-fill-color: #174EA6;\n",
              "      --disabled-fill-color: #AAA;\n",
              "      --disabled-bg-color: #DDD;\n",
              "  }\n",
              "\n",
              "  [theme=dark] .colab-df-quickchart {\n",
              "      --bg-color: #3B4455;\n",
              "      --fill-color: #D2E3FC;\n",
              "      --hover-bg-color: #434B5C;\n",
              "      --hover-fill-color: #FFFFFF;\n",
              "      --disabled-bg-color: #3B4455;\n",
              "      --disabled-fill-color: #666;\n",
              "  }\n",
              "\n",
              "  .colab-df-quickchart {\n",
              "    background-color: var(--bg-color);\n",
              "    border: none;\n",
              "    border-radius: 50%;\n",
              "    cursor: pointer;\n",
              "    display: none;\n",
              "    fill: var(--fill-color);\n",
              "    height: 32px;\n",
              "    padding: 0;\n",
              "    width: 32px;\n",
              "  }\n",
              "\n",
              "  .colab-df-quickchart:hover {\n",
              "    background-color: var(--hover-bg-color);\n",
              "    box-shadow: 0 1px 2px rgba(60, 64, 67, 0.3), 0 1px 3px 1px rgba(60, 64, 67, 0.15);\n",
              "    fill: var(--button-hover-fill-color);\n",
              "  }\n",
              "\n",
              "  .colab-df-quickchart-complete:disabled,\n",
              "  .colab-df-quickchart-complete:disabled:hover {\n",
              "    background-color: var(--disabled-bg-color);\n",
              "    fill: var(--disabled-fill-color);\n",
              "    box-shadow: none;\n",
              "  }\n",
              "\n",
              "  .colab-df-spinner {\n",
              "    border: 2px solid var(--fill-color);\n",
              "    border-color: transparent;\n",
              "    border-bottom-color: var(--fill-color);\n",
              "    animation:\n",
              "      spin 1s steps(1) infinite;\n",
              "  }\n",
              "\n",
              "  @keyframes spin {\n",
              "    0% {\n",
              "      border-color: transparent;\n",
              "      border-bottom-color: var(--fill-color);\n",
              "      border-left-color: var(--fill-color);\n",
              "    }\n",
              "    20% {\n",
              "      border-color: transparent;\n",
              "      border-left-color: var(--fill-color);\n",
              "      border-top-color: var(--fill-color);\n",
              "    }\n",
              "    30% {\n",
              "      border-color: transparent;\n",
              "      border-left-color: var(--fill-color);\n",
              "      border-top-color: var(--fill-color);\n",
              "      border-right-color: var(--fill-color);\n",
              "    }\n",
              "    40% {\n",
              "      border-color: transparent;\n",
              "      border-right-color: var(--fill-color);\n",
              "      border-top-color: var(--fill-color);\n",
              "    }\n",
              "    60% {\n",
              "      border-color: transparent;\n",
              "      border-right-color: var(--fill-color);\n",
              "    }\n",
              "    80% {\n",
              "      border-color: transparent;\n",
              "      border-right-color: var(--fill-color);\n",
              "      border-bottom-color: var(--fill-color);\n",
              "    }\n",
              "    90% {\n",
              "      border-color: transparent;\n",
              "      border-bottom-color: var(--fill-color);\n",
              "    }\n",
              "  }\n",
              "</style>\n",
              "\n",
              "  <script>\n",
              "    async function quickchart(key) {\n",
              "      const quickchartButtonEl =\n",
              "        document.querySelector('#' + key + ' button');\n",
              "      quickchartButtonEl.disabled = true;  // To prevent multiple clicks.\n",
              "      quickchartButtonEl.classList.add('colab-df-spinner');\n",
              "      try {\n",
              "        const charts = await google.colab.kernel.invokeFunction(\n",
              "            'suggestCharts', [key], {});\n",
              "      } catch (error) {\n",
              "        console.error('Error during call to suggestCharts:', error);\n",
              "      }\n",
              "      quickchartButtonEl.classList.remove('colab-df-spinner');\n",
              "      quickchartButtonEl.classList.add('colab-df-quickchart-complete');\n",
              "    }\n",
              "    (() => {\n",
              "      let quickchartButtonEl =\n",
              "        document.querySelector('#df-17efac76-bb84-4a7d-a7cd-9b3df64d6503 button');\n",
              "      quickchartButtonEl.style.display =\n",
              "        google.colab.kernel.accessAllowed ? 'block' : 'none';\n",
              "    })();\n",
              "  </script>\n",
              "</div>\n",
              "    </div>\n",
              "  </div>\n"
            ]
          },
          "metadata": {},
          "execution_count": 5
        }
      ]
    },
    {
      "cell_type": "code",
      "source": [
        "# Define cyclical encoding function\n",
        "def encode_cyclical(data, max_value):\n",
        "   return (\n",
        "       np.sin(2 * np.pi * data / max_value),\n",
        "       np.cos(2 * np.pi * data / max_value)\n",
        "   )"
      ],
      "metadata": {
        "id": "G3_ZLYzvDRkA"
      },
      "execution_count": 6,
      "outputs": []
    },
    {
      "cell_type": "code",
      "source": [
        "def encode_datetime(dataframe):\n",
        "  df = dataframe.copy()\n",
        "\n",
        "  # Encode datetime objects in train set\n",
        "  df['startDate'] = pd.to_datetime(df['startDate'])\n",
        "  df['endDate'] = pd.to_datetime(df['endDate'])\n",
        "\n",
        "  # Extract components\n",
        "  df['startYear'] = df['startDate'].dt.year\n",
        "  df['startMonth'] = df['startDate'].dt.month\n",
        "  df['startDay'] = df['startDate'].dt.day\n",
        "  df['startHour'] = df['startDate'].dt.hour\n",
        "\n",
        "  df['endYear'] = df['endDate'].dt.year\n",
        "  df['endMonth'] = df['endDate'].dt.month\n",
        "  df['endDay'] = df['endDate'].dt.day\n",
        "  df['endHour'] = df['endDate'].dt.hour\n",
        "\n",
        "  # Define the maximum values for each component\n",
        "  max_month = 12\n",
        "  max_day = 31\n",
        "  max_hour = 23\n",
        "\n",
        "  # Apply cyclical encoding\n",
        "  df['startMonth_sin'], df['startMonth_cos'] = encode_cyclical(df['startMonth'], max_month)\n",
        "  df['startDay_sin'], df['startDay_cos'] = encode_cyclical(df['startDay'], max_day)\n",
        "  df['startHour_sin'], df['startHour_cos'] = encode_cyclical(df['startHour'], max_hour)\n",
        "\n",
        "  df['endMonth_sin'], df['endMonth_cos'] = encode_cyclical(df['endMonth'], max_month)\n",
        "  df['endDay_sin'], df['endDay_cos'] = encode_cyclical(df['endDay'], max_day)\n",
        "  df['endHour_sin'], df['endHour_cos'] = encode_cyclical(df['endHour'], max_hour)\n",
        "\n",
        "  # Drop original date-time columns and extracted components\n",
        "  df_enc = df.drop(['startDate', 'endDate',\n",
        "                'startMonth', 'startDay', 'startHour',\n",
        "                'endMonth', 'endDay', 'endHour'], axis=1)\n",
        "\n",
        "  return df_enc"
      ],
      "metadata": {
        "id": "oRoXn4r3BrOL"
      },
      "execution_count": 7,
      "outputs": []
    },
    {
      "cell_type": "code",
      "source": [
        "# For now just drop dates\n",
        "df_train_enc = df_train_fe.drop(['startDate', 'endDate'], axis=1)\n",
        "df_test_enc = df_test_fe.drop(['startDate', 'endDate'], axis=1)\n",
        "\n",
        "# # Encode dates in training set\n",
        "# df_train_enc = encode_datetime(df_train_fe)\n",
        "print(df_train_enc.columns)\n",
        "\n",
        "# # Encode dates in test set\n",
        "# df_test_enc = encode_datetime(df_test_fe)\n",
        "print(df_test_enc.columns)\n"
      ],
      "metadata": {
        "colab": {
          "base_uri": "https://localhost:8080/"
        },
        "id": "_TpeO_M1G907",
        "outputId": "d9cadbc1-cdbf-4774-a3ba-0603b1d001b6"
      },
      "execution_count": 10,
      "outputs": [
        {
          "output_type": "stream",
          "name": "stdout",
          "text": [
            "Index(['projectID', 'totalCost', 'ecMaxContribution', 'num_papers',\n",
            "       'num_patents', 'category', 'label', 'TFIDF', 'frameworkProgramme_FP7',\n",
            "       'frameworkProgramme_H2020', 'frameworkProgramme_HORIZON'],\n",
            "      dtype='object')\n",
            "Index(['projectID', 'totalCost', 'ecMaxContribution', 'num_papers',\n",
            "       'num_patents', 'TFIDF', 'frameworkProgramme_FP7',\n",
            "       'frameworkProgramme_H2020', 'frameworkProgramme_HORIZON'],\n",
            "      dtype='object')\n"
          ]
        }
      ]
    },
    {
      "cell_type": "markdown",
      "source": [
        "### 2. Preprocess TFIDF column\n",
        "\n",
        "As a first approach vectors in TFIDF column are added as signle features to the dataframe and the TFIDF column is dropped.\n",
        "\n",
        "In future preprocessing an autoencoder will be trained to reduce the TFIDF vector dimensionality to $4$ or $5$ features."
      ],
      "metadata": {
        "id": "qYw-KCo4IINH"
      }
    },
    {
      "cell_type": "code",
      "source": [
        "def create_new_columns(row):\n",
        "    return pd.Series(row['TFIDF'])"
      ],
      "metadata": {
        "id": "dc4i9X51I3Kw"
      },
      "execution_count": 11,
      "outputs": []
    },
    {
      "cell_type": "code",
      "source": [
        "# Preprocess training df\n",
        "new_columns = df_train_enc.apply(create_new_columns, axis=1)\n",
        "df_train_proc = pd.concat([df_train_enc, new_columns], axis=1)\n",
        "\n",
        "# Preprocess test df\n",
        "new_columns = df_test_enc.apply(create_new_columns, axis=1)\n",
        "df_test_proc = pd.concat([df_test_enc, new_columns], axis=1)\n",
        "\n",
        "# Check conversion\n",
        "print(df_train_proc.shape)\n",
        "print(df_test_proc.shape)"
      ],
      "metadata": {
        "colab": {
          "base_uri": "https://localhost:8080/"
        },
        "id": "IVUn-xN6ANQU",
        "outputId": "5fa0d2e6-05eb-4d2c-c6f5-fac9ce6a77da"
      },
      "execution_count": 12,
      "outputs": [
        {
          "output_type": "stream",
          "name": "stdout",
          "text": [
            "(6983, 2011)\n",
            "(10476, 2009)\n"
          ]
        }
      ]
    },
    {
      "cell_type": "code",
      "source": [
        "# TODO: Future approach: train Sparse Autoencoder for dimensionality reduction of TFIDF to 4 or 5 features"
      ],
      "metadata": {
        "id": "F_jug7WSYV8F"
      },
      "execution_count": null,
      "outputs": []
    },
    {
      "cell_type": "markdown",
      "source": [
        "### 3. Extract training and test matrices\n",
        "\n",
        "Training and test matrices are extracted and converted into Numpy arrays ready to use in the different algorithms."
      ],
      "metadata": {
        "id": "x5aLraaCJ7ht"
      }
    },
    {
      "cell_type": "code",
      "source": [
        "X_train = df_train_proc.drop(['category', 'label', 'TFIDF'], axis=1).to_numpy()\n",
        "Y_train = np.array(df_train['label'].tolist())\n",
        "\n",
        "X_test = df_test_proc.drop(['TFIDF'], axis=1).to_numpy()\n",
        "\n",
        "# Check dimensions\n",
        "print(X_train.shape, Y_train.shape)\n",
        "print(X_test.shape)"
      ],
      "metadata": {
        "colab": {
          "base_uri": "https://localhost:8080/"
        },
        "id": "gS4IweA8JBUU",
        "outputId": "722c8300-3f00-42e0-a4e3-751dc4f37d4d"
      },
      "execution_count": 13,
      "outputs": [
        {
          "output_type": "stream",
          "name": "stdout",
          "text": [
            "(6983, 2008) (6983, 34)\n",
            "(10476, 2008)\n"
          ]
        }
      ]
    },
    {
      "cell_type": "markdown",
      "source": [
        "### 4. Analyze data imbalance\n",
        "\n",
        "In a multilabel classification problem there are two approaches to analyze data imbalance:\n",
        "\n",
        "1. Analyze number of samples per class: we can compute some interesting metrics such as the IRLbl, MeanIR, MaxIR and the CVIR. Metrics extrated from [this paper](https://www.sciencedirect.com/science/article/pii/S0031320321001527).\n",
        "2. Analyze number of unique labels to find label relationships."
      ],
      "metadata": {
        "id": "b2cRaEtZLgsF"
      }
    },
    {
      "cell_type": "code",
      "source": [
        "# Number of samples per class\n",
        "samples_per_class = np.sum(Y_train, axis=0)\n",
        "\n",
        "fig, ax = plt.subplots(figsize=(10, 4), layout='tight')\n",
        "ax.bar(np.arange(0, 34), samples_per_class)\n",
        "ax.set_xticks(np.arange(0,34))\n",
        "ax.set_title('Samples per class')\n",
        "ax.set_xlabel('Class number')\n",
        "ax.set_ylabel('Number of samples')"
      ],
      "metadata": {
        "colab": {
          "base_uri": "https://localhost:8080/",
          "height": 424
        },
        "id": "HUwEtuCEMMZA",
        "outputId": "9214439e-573d-4768-c6ac-04b5b3e5a00b"
      },
      "execution_count": 14,
      "outputs": [
        {
          "output_type": "execute_result",
          "data": {
            "text/plain": [
              "Text(0, 0.5, 'Number of samples')"
            ]
          },
          "metadata": {},
          "execution_count": 14
        },
        {
          "output_type": "display_data",
          "data": {
            "text/plain": [
              "<Figure size 1000x400 with 1 Axes>"
            ],
            "image/png": "[encoded data removed]"
          },
          "metadata": {}
        }
      ]
    },
    {
      "cell_type": "code",
      "source": [
        "# Compute metrics\n",
        "IRLbl = np.max(samples_per_class) / samples_per_class\n",
        "meanIR = np.mean(IRLbl)\n",
        "maxIR = np.max(IRLbl)\n",
        "CVIR = np.std(IRLbl)\n",
        "\n",
        "print(f\"Mean Imbalance Ratio: {meanIR}\")\n",
        "print(f\"Max Imbalance Ratio: {maxIR}\")\n",
        "print(f\"Coefficient of Variation of IR: {CVIR}\")"
      ],
      "metadata": {
        "colab": {
          "base_uri": "https://localhost:8080/"
        },
        "id": "kua51S5SSyf9",
        "outputId": "3b4b78e9-aad3-485d-f33f-198463351506"
      },
      "execution_count": 15,
      "outputs": [
        {
          "output_type": "stream",
          "name": "stdout",
          "text": [
            "Mean Imbalance Ratio: 4.441825812086713\n",
            "Max Imbalance Ratio: 8.296875\n",
            "Coefficient of Variation of IR: 2.2609665414828983\n"
          ]
        }
      ]
    },
    {
      "cell_type": "code",
      "source": [
        "# Number of unique labels\n",
        "label_combinations, count_list = np.unique(Y_train, axis=0, return_counts=True)\n",
        "\n",
        "print(f\"Number of different label combinations: {label_combinations.shape[0]}\")\n",
        "print(f\"Ocurrences of most repeated label combination: {np.max(count_list)}\")\n",
        "print(f\"Mean label combination repetitions: {np.mean(count_list):.3f}\")\n",
        "print(f\"Standard deviation: {np.std(count_list):.3f}\")"
      ],
      "metadata": {
        "colab": {
          "base_uri": "https://localhost:8080/"
        },
        "id": "jZVuK3cHPi7t",
        "outputId": "07c612c7-9446-4dd3-b99d-af49042ab572"
      },
      "execution_count": 16,
      "outputs": [
        {
          "output_type": "stream",
          "name": "stdout",
          "text": [
            "Number of different label combinations: 2688\n",
            "Ocurrences of most repeated label combination: 231\n",
            "Mean label combination repetitions: 2.598\n",
            "Standard deviation: 8.013\n"
          ]
        }
      ]
    },
    {
      "cell_type": "markdown",
      "source": [
        "## **Model Training**\n",
        "\n",
        "As a general guide, models are trained after solving class imbalance either by subsampling (SMOTE) or by weighting the loss function.\n",
        "\n",
        "Note that one-hot encoded data and TFIDF features are not normalized to avoid loosing information."
      ],
      "metadata": {
        "id": "dGMFOYaYPk56"
      }
    },
    {
      "cell_type": "code",
      "source": [
        "# TODO: Solve class imbalance using over-sampling of minority classes (SMOTE)\n",
        "  # Only resample samples with 1 label or use MLSMOTE algorithm (Zotero)"
      ],
      "metadata": {
        "id": "KrmUxHgvQ5Ie"
      },
      "execution_count": null,
      "outputs": []
    },
    {
      "cell_type": "code",
      "source": [
        "# TODO: cost function weighting depending on algorithm\n",
        "from sklearn.utils.class_weight import compute_sample_weight\n",
        "\n",
        "sample_weights = compute_sample_weight('balanced', Y_train)\n",
        "print(sample_weights.shape)\n",
        "print(sample_weights)"
      ],
      "metadata": {
        "colab": {
          "base_uri": "https://localhost:8080/"
        },
        "id": "a3LHok6icpPE",
        "outputId": "f1064150-8cb2-4f9b-fb05-9515f7a5e569"
      },
      "execution_count": 17,
      "outputs": [
        {
          "output_type": "stream",
          "name": "stdout",
          "text": [
            "(6983,)\n",
            "[3.49004926e-07 1.11337995e-07 1.47774019e-07 ... 8.05856416e-08\n",
            " 8.63300713e-08 1.03789427e-04]\n"
          ]
        }
      ]
    },
    {
      "cell_type": "markdown",
      "source": [
        "One-hot encoded data and TFIDF vector are not normalized. Try datasets with more features each time with the same model to compare with baseline."
      ],
      "metadata": {
        "id": "z6BG5-wuyhAB"
      }
    },
    {
      "cell_type": "code",
      "source": [
        "# TODO"
      ],
      "metadata": {
        "id": "DwUeAZMmdAXV"
      },
      "execution_count": null,
      "outputs": []
    },
    {
      "cell_type": "markdown",
      "source": [
        "Bseline to compare with dummy classifier."
      ],
      "metadata": {
        "id": "epOPAJ-meVqI"
      }
    },
    {
      "cell_type": "code",
      "source": [
        "from sklearn.dummy import DummyClassifier\n",
        "\n",
        "dummy = DummyClassifier(strategy='most_frequent')\n",
        "dummy.fit(X_train[:,:1], Y_train)\n",
        "\n",
        "acc = accuracy_score(Y_train, dummy.predict(X_train[:,:8]))\n",
        "print(f\"Train accuracy: {acc*100:.3f}%\")"
      ],
      "metadata": {
        "colab": {
          "base_uri": "https://localhost:8080/"
        },
        "id": "kHEfU5IqeYZE",
        "outputId": "20a40ea2-769b-4ea7-be20-4895eb807864"
      },
      "execution_count": 32,
      "outputs": [
        {
          "output_type": "stream",
          "name": "stdout",
          "text": [
            "Train accuracy: 3.308%\n"
          ]
        }
      ]
    },
    {
      "cell_type": "markdown",
      "source": [
        "Model training and evaluation."
      ],
      "metadata": {
        "id": "N4c1Erg4fADF"
      }
    },
    {
      "cell_type": "code",
      "source": [
        "from sklearn.tree import DecisionTreeClassifier\n",
        "from sklearn.ensemble import GradientBoostingClassifier\n",
        "import xgboost as xgb\n",
        "from sklearn.model_selection import GridSearchCV\n",
        "from sklearn.multioutput import MultiOutputClassifier\n",
        "from sklearn.metrics import accuracy_score\n",
        "\n",
        "# Parameters\n",
        "kfolds = 10\n",
        "parameters = {'estimator__max_depth':np.arange(4, 12, 2)}\n",
        "\n",
        "# Model CV\n",
        "clf = MultiOutputClassifier(GradientBoostingClassifier(loss='exponential', n_estimators=100, max_depth=6))\n",
        "# clf = GridSearchCV(model, parameters, cv=kfolds, scoring='neg_mean_squared_error',verbose=2, return_train_score=True)\n",
        "clf.fit(X_train[:,:1], Y_train)\n",
        "\n",
        "# Evaluation\n",
        "acc = accuracy_score(Y_train, clf.predict(X_train[:,:1]))\n",
        "print(f\"Train accuracy: {acc*100:.3f}%\")"
      ],
      "metadata": {
        "id": "alL9eSmsjpE8",
        "colab": {
          "base_uri": "https://localhost:8080/"
        },
        "outputId": "be1fa180-21ab-46ed-be53-022459580022"
      },
      "execution_count": 34,
      "outputs": [
        {
          "output_type": "stream",
          "name": "stdout",
          "text": [
            "Train accuracy: 4.253%\n"
          ]
        }
      ]
    },
    {
      "cell_type": "code",
      "source": [
        "print(f\"Best params: {clf.best_params_}\")\n",
        "print(f\"Train CV error: {clf.cv_results['mean_train_score']}\")\n",
        "print(f\"Test CV error: {clf.cv_results['mean_test_score']}\")"
      ],
      "metadata": {
        "id": "Ka62M-LjkRUQ"
      },
      "execution_count": null,
      "outputs": []
    },
    {
      "cell_type": "markdown",
      "source": [
        "## **Predictions and submission file generation**"
      ],
      "metadata": {
        "id": "LRmFVOkTPrP8"
      }
    },
    {
      "cell_type": "code",
      "source": [],
      "metadata": {
        "id": "VYHZcdBgPzmJ"
      },
      "execution_count": null,
      "outputs": []
    }
  ]
}