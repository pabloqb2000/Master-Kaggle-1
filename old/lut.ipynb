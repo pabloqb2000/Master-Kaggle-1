{
 "cells": [
  {
   "cell_type": "code",
   "execution_count": 1,
   "metadata": {},
   "outputs": [],
   "source": [
    "import numpy as np\n",
    "import pandas as pd"
   ]
  },
  {
   "cell_type": "code",
   "execution_count": 2,
   "metadata": {},
   "outputs": [],
   "source": [
    "df_train_1 = pd.read_pickle('./data/data_v1_train.pickle')\n",
    "df_train_2 = pd.read_csv('./data/data_v1_train.csv')\n",
    "dummy_sub = pd.read_csv('./data/dummy_submission_v1.csv')\n",
    "\n",
    "lut_ids = []\n",
    "result = {}\n",
    "for id in dummy_sub.projectID:\n",
    "    res1 = df_train_1.loc[df_train_1.projectID==id, 'label']\n",
    "    if len(res1) != 0:\n",
    "        result[id] = list(res1)[0]\n",
    "        lut_ids.append(id)\n",
    "        continue\n",
    "\n",
    "    res2 = df_train_2.loc[df_train_2.projectID==id, 'label']\n",
    "    if len(res2) != 0:\n",
    "        str_val = list(res2)[0]\n",
    "        result[id] = [int(v) for v in str_val[1:-1].split(' ')]\n",
    "        lut_ids.append(id)\n",
    "        continue\n",
    "\n",
    "    res3 = dummy_sub.loc[dummy_sub.projectID==id]\n",
    "    result[id] = res3[['cat_0', 'cat_1', 'cat_2', 'cat_3', 'cat_4', 'cat_5', 'cat_6', 'cat_7', 'cat_8', 'cat_9', 'cat_10', 'cat_11', 'cat_12', 'cat_13', 'cat_14', 'cat_15', 'cat_16', 'cat_17', 'cat_18', 'cat_19', 'cat_20', 'cat_21', 'cat_22', 'cat_23', 'cat_24', 'cat_25', 'cat_26', 'cat_27', 'cat_28', 'cat_29', 'cat_30', 'cat_31', 'cat_32', \n",
    "                      'cat_33']].to_numpy()[0]\n",
    "    \n",
    "    "
   ]
  },
  {
   "cell_type": "code",
   "execution_count": 3,
   "metadata": {},
   "outputs": [],
   "source": [
    "cats = ['cat_0', 'cat_1', 'cat_2', 'cat_3', 'cat_4', 'cat_5', 'cat_6', 'cat_7', 'cat_8', 'cat_9', 'cat_10', 'cat_11', 'cat_12', 'cat_13', 'cat_14', 'cat_15', 'cat_16', 'cat_17', 'cat_18', 'cat_19', 'cat_20', 'cat_21', 'cat_22', 'cat_23', 'cat_24', 'cat_25', 'cat_26', 'cat_27', 'cat_28', 'cat_29', 'cat_30', 'cat_31', 'cat_32', \n",
    "                      'cat_33']\n",
    "\n",
    "with open('LUT.csv', 'w+') as f:\n",
    "    f.write('projectID,' + ','.join(cats)+'\\n')\n",
    "    for id, vals in result.items():\n",
    "        f.write(str(id)+','+','.join([str(v) for v in vals])+'\\n')"
   ]
  },
  {
   "cell_type": "code",
   "execution_count": 5,
   "metadata": {},
   "outputs": [],
   "source": [
    "import json\n",
    "with open('temp.tmp', 'w+') as f:\n",
    "    json.dump(lut_ids, f)"
   ]
  },
  {
   "cell_type": "code",
   "execution_count": null,
   "metadata": {},
   "outputs": [],
   "source": []
  }
 ],
 "metadata": {
  "kernelspec": {
   "display_name": ".venv",
   "language": "python",
   "name": "python3"
  },
  "language_info": {
   "codemirror_mode": {
    "name": "ipython",
    "version": 3
   },
   "file_extension": ".py",
   "mimetype": "text/x-python",
   "name": "python",
   "nbconvert_exporter": "python",
   "pygments_lexer": "ipython3",
   "version": "3.9.1"
  },
  "orig_nbformat": 4
 },
 "nbformat": 4,
 "nbformat_minor": 2
}
